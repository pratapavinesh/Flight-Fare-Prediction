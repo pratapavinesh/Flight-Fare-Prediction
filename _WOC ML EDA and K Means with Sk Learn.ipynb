{
 "cells": [
  {
   "cell_type": "markdown",
   "id": "cloudy-carpet",
   "metadata": {},
   "source": [
    "<img src=\"cyberlabs..jpg\" style=\"width:300px;height:300px\"/>"
   ]
  },
  {
   "cell_type": "markdown",
   "id": "provincial-direction",
   "metadata": {},
   "source": [
    "<img src=\"ml_logo.png\" style=\"width:300px;height:300px\"/>"
   ]
  },
  {
   "cell_type": "markdown",
   "id": "after-efficiency",
   "metadata": {},
   "source": [
    "<img src=\"woc_logo-fullsize.png\" style=\"width:200px;height:200px\"/>"
   ]
  },
  {
   "cell_type": "markdown",
   "id": "fuzzy-geneva",
   "metadata": {},
   "source": [
    "#  ML Essentials"
   ]
  },
  {
   "cell_type": "markdown",
   "id": "wicked-deposit",
   "metadata": {},
   "source": [
    "# Exploratory Data Analysis (EDA)"
   ]
  },
  {
   "cell_type": "markdown",
   "id": "lonely-tours",
   "metadata": {},
   "source": [
    "*  Importing  libraries"
   ]
  },
  {
   "cell_type": "code",
   "execution_count": 2,
   "id": "historical-maintenance",
   "metadata": {},
   "outputs": [],
   "source": [
    "import numpy as np\n",
    "import matplotlib.pyplot as plt\n",
    "import pandas as pd"
   ]
  },
  {
   "cell_type": "markdown",
   "id": "dangerous-bronze",
   "metadata": {},
   "source": [
    "* Loading the data set"
   ]
  },
  {
   "cell_type": "code",
   "execution_count": 4,
   "id": "inappropriate-census",
   "metadata": {},
   "outputs": [],
   "source": [
    "   data=pd.read_csv('kmeans_dataset.csv')  #defining a variable named as data for loaded dataset"
   ]
  },
  {
   "cell_type": "markdown",
   "id": "equivalent-dealing",
   "metadata": {},
   "source": [
    " * Basic data exploration"
   ]
  },
  {
   "cell_type": "code",
   "execution_count": 4,
   "id": "remarkable-utility",
   "metadata": {
    "scrolled": true
   },
   "outputs": [
    {
     "data": {
      "text/html": [
       "<div>\n",
       "<style scoped>\n",
       "    .dataframe tbody tr th:only-of-type {\n",
       "        vertical-align: middle;\n",
       "    }\n",
       "\n",
       "    .dataframe tbody tr th {\n",
       "        vertical-align: top;\n",
       "    }\n",
       "\n",
       "    .dataframe thead th {\n",
       "        text-align: right;\n",
       "    }\n",
       "</style>\n",
       "<table border=\"1\" class=\"dataframe\">\n",
       "  <thead>\n",
       "    <tr style=\"text-align: right;\">\n",
       "      <th></th>\n",
       "      <th>Hardwork</th>\n",
       "      <th>Skills</th>\n",
       "      <th>Label</th>\n",
       "    </tr>\n",
       "  </thead>\n",
       "  <tbody>\n",
       "    <tr>\n",
       "      <th>0</th>\n",
       "      <td>1.483358</td>\n",
       "      <td>6.135020</td>\n",
       "      <td>C Tier</td>\n",
       "    </tr>\n",
       "    <tr>\n",
       "      <th>1</th>\n",
       "      <td>52.864104</td>\n",
       "      <td>48.897037</td>\n",
       "      <td>B Tier</td>\n",
       "    </tr>\n",
       "    <tr>\n",
       "      <th>2</th>\n",
       "      <td>67.556683</td>\n",
       "      <td>19.359183</td>\n",
       "      <td>D Tier</td>\n",
       "    </tr>\n",
       "    <tr>\n",
       "      <th>3</th>\n",
       "      <td>52.797684</td>\n",
       "      <td>43.650076</td>\n",
       "      <td>B Tier</td>\n",
       "    </tr>\n",
       "    <tr>\n",
       "      <th>4</th>\n",
       "      <td>45.060080</td>\n",
       "      <td>74.978268</td>\n",
       "      <td>B Tier</td>\n",
       "    </tr>\n",
       "  </tbody>\n",
       "</table>\n",
       "</div>"
      ],
      "text/plain": [
       "    Hardwork     Skills   Label\n",
       "0   1.483358   6.135020  C Tier\n",
       "1  52.864104  48.897037  B Tier\n",
       "2  67.556683  19.359183  D Tier\n",
       "3  52.797684  43.650076  B Tier\n",
       "4  45.060080  74.978268  B Tier"
      ]
     },
     "execution_count": 4,
     "metadata": {},
     "output_type": "execute_result"
    }
   ],
   "source": [
    "data.head()                          # head function will give the 5 records from top of dataset"
   ]
  },
  {
   "cell_type": "code",
   "execution_count": 5,
   "id": "introductory-determination",
   "metadata": {},
   "outputs": [
    {
     "data": {
      "text/html": [
       "<div>\n",
       "<style scoped>\n",
       "    .dataframe tbody tr th:only-of-type {\n",
       "        vertical-align: middle;\n",
       "    }\n",
       "\n",
       "    .dataframe tbody tr th {\n",
       "        vertical-align: top;\n",
       "    }\n",
       "\n",
       "    .dataframe thead th {\n",
       "        text-align: right;\n",
       "    }\n",
       "</style>\n",
       "<table border=\"1\" class=\"dataframe\">\n",
       "  <thead>\n",
       "    <tr style=\"text-align: right;\">\n",
       "      <th></th>\n",
       "      <th>Hardwork</th>\n",
       "      <th>Skills</th>\n",
       "      <th>Label</th>\n",
       "    </tr>\n",
       "  </thead>\n",
       "  <tbody>\n",
       "    <tr>\n",
       "      <th>455</th>\n",
       "      <td>48.414533</td>\n",
       "      <td>53.807818</td>\n",
       "      <td>B Tier</td>\n",
       "    </tr>\n",
       "    <tr>\n",
       "      <th>456</th>\n",
       "      <td>49.534222</td>\n",
       "      <td>54.425778</td>\n",
       "      <td>B Tier</td>\n",
       "    </tr>\n",
       "    <tr>\n",
       "      <th>457</th>\n",
       "      <td>30.457458</td>\n",
       "      <td>40.396009</td>\n",
       "      <td>B Tier</td>\n",
       "    </tr>\n",
       "    <tr>\n",
       "      <th>458</th>\n",
       "      <td>2.277720</td>\n",
       "      <td>5.085407</td>\n",
       "      <td>C Tier</td>\n",
       "    </tr>\n",
       "    <tr>\n",
       "      <th>459</th>\n",
       "      <td>37.012233</td>\n",
       "      <td>51.093717</td>\n",
       "      <td>B Tier</td>\n",
       "    </tr>\n",
       "  </tbody>\n",
       "</table>\n",
       "</div>"
      ],
      "text/plain": [
       "      Hardwork     Skills   Label\n",
       "455  48.414533  53.807818  B Tier\n",
       "456  49.534222  54.425778  B Tier\n",
       "457  30.457458  40.396009  B Tier\n",
       "458   2.277720   5.085407  C Tier\n",
       "459  37.012233  51.093717  B Tier"
      ]
     },
     "execution_count": 5,
     "metadata": {},
     "output_type": "execute_result"
    }
   ],
   "source": [
    "data.tail()                           # tail function will give the 5 records from bottom of dataset"
   ]
  },
  {
   "cell_type": "code",
   "execution_count": 6,
   "id": "organized-distributor",
   "metadata": {},
   "outputs": [
    {
     "data": {
      "text/plain": [
       "array(['C Tier', 'B Tier', 'D Tier', 'A Tier'], dtype=object)"
      ]
     },
     "execution_count": 6,
     "metadata": {},
     "output_type": "execute_result"
    }
   ],
   "source": [
    "data.Label.unique()"
   ]
  },
  {
   "cell_type": "code",
   "execution_count": 7,
   "id": "dutch-messaging",
   "metadata": {},
   "outputs": [
    {
     "data": {
      "text/plain": [
       "(460, 3)"
      ]
     },
     "execution_count": 7,
     "metadata": {},
     "output_type": "execute_result"
    }
   ],
   "source": [
    "data.shape                                 #shape function gives the number of rows and columns present in dataset"
   ]
  },
  {
   "cell_type": "code",
   "execution_count": 8,
   "id": "bigger-entry",
   "metadata": {},
   "outputs": [
    {
     "name": "stdout",
     "output_type": "stream",
     "text": [
      "<class 'pandas.core.frame.DataFrame'>\n",
      "RangeIndex: 460 entries, 0 to 459\n",
      "Data columns (total 3 columns):\n",
      " #   Column    Non-Null Count  Dtype  \n",
      "---  ------    --------------  -----  \n",
      " 0   Hardwork  460 non-null    float64\n",
      " 1   Skills    460 non-null    float64\n",
      " 2   Label     460 non-null    object \n",
      "dtypes: float64(2), object(1)\n",
      "memory usage: 10.9+ KB\n"
     ]
    }
   ],
   "source": [
    "data.info()                                #info function gives breif information about loaded dataset"
   ]
  },
  {
   "cell_type": "code",
   "execution_count": 9,
   "id": "willing-microwave",
   "metadata": {},
   "outputs": [
    {
     "data": {
      "text/plain": [
       "Hardwork    0\n",
       "Skills      0\n",
       "Label       0\n",
       "dtype: int64"
      ]
     },
     "execution_count": 9,
     "metadata": {},
     "output_type": "execute_result"
    }
   ],
   "source": [
    "data.isnull().sum()                        #veifying if data contains any missing values"
   ]
  },
  {
   "cell_type": "code",
   "execution_count": 8,
   "id": "functioning-hacker",
   "metadata": {},
   "outputs": [
    {
     "data": {
      "text/html": [
       "<div>\n",
       "<style scoped>\n",
       "    .dataframe tbody tr th:only-of-type {\n",
       "        vertical-align: middle;\n",
       "    }\n",
       "\n",
       "    .dataframe tbody tr th {\n",
       "        vertical-align: top;\n",
       "    }\n",
       "\n",
       "    .dataframe thead th {\n",
       "        text-align: right;\n",
       "    }\n",
       "</style>\n",
       "<table border=\"1\" class=\"dataframe\">\n",
       "  <thead>\n",
       "    <tr style=\"text-align: right;\">\n",
       "      <th></th>\n",
       "      <th>Hardwork</th>\n",
       "      <th>Skills</th>\n",
       "    </tr>\n",
       "  </thead>\n",
       "  <tbody>\n",
       "    <tr>\n",
       "      <th>count</th>\n",
       "      <td>460.000000</td>\n",
       "      <td>460.000000</td>\n",
       "    </tr>\n",
       "    <tr>\n",
       "      <th>mean</th>\n",
       "      <td>47.019178</td>\n",
       "      <td>38.439590</td>\n",
       "    </tr>\n",
       "    <tr>\n",
       "      <th>std</th>\n",
       "      <td>24.895360</td>\n",
       "      <td>26.136017</td>\n",
       "    </tr>\n",
       "    <tr>\n",
       "      <th>min</th>\n",
       "      <td>0.712341</td>\n",
       "      <td>1.447058</td>\n",
       "    </tr>\n",
       "    <tr>\n",
       "      <th>25%</th>\n",
       "      <td>25.287181</td>\n",
       "      <td>13.987334</td>\n",
       "    </tr>\n",
       "    <tr>\n",
       "      <th>50%</th>\n",
       "      <td>48.519039</td>\n",
       "      <td>38.515372</td>\n",
       "    </tr>\n",
       "    <tr>\n",
       "      <th>75%</th>\n",
       "      <td>67.467031</td>\n",
       "      <td>60.161463</td>\n",
       "    </tr>\n",
       "    <tr>\n",
       "      <th>max</th>\n",
       "      <td>97.618528</td>\n",
       "      <td>95.704652</td>\n",
       "    </tr>\n",
       "  </tbody>\n",
       "</table>\n",
       "</div>"
      ],
      "text/plain": [
       "         Hardwork      Skills\n",
       "count  460.000000  460.000000\n",
       "mean    47.019178   38.439590\n",
       "std     24.895360   26.136017\n",
       "min      0.712341    1.447058\n",
       "25%     25.287181   13.987334\n",
       "50%     48.519039   38.515372\n",
       "75%     67.467031   60.161463\n",
       "max     97.618528   95.704652"
      ]
     },
     "execution_count": 8,
     "metadata": {},
     "output_type": "execute_result"
    }
   ],
   "source": [
    "data.describe()  #describe function shows different aspects of data such as minimum,maximum,mean and different percentile values"
   ]
  },
  {
   "cell_type": "markdown",
   "id": "advised-library",
   "metadata": {},
   "source": [
    "* Handling Missing Values"
   ]
  },
  {
   "cell_type": "code",
   "execution_count": 10,
   "id": "obvious-serbia",
   "metadata": {},
   "outputs": [
    {
     "data": {
      "text/plain": [
       "Hardwork    0\n",
       "Skills      0\n",
       "Label       0\n",
       "dtype: int64"
      ]
     },
     "execution_count": 10,
     "metadata": {},
     "output_type": "execute_result"
    }
   ],
   "source": [
    "data.isnull().sum()                        # There is no missing values in the dataset"
   ]
  },
  {
   "cell_type": "markdown",
   "id": "imported-penetration",
   "metadata": {},
   "source": [
    "* Data analysis through plots"
   ]
  },
  {
   "cell_type": "code",
   "execution_count": 11,
   "id": "overhead-irish",
   "metadata": {},
   "outputs": [
    {
     "data": {
      "image/png": "[encoded data removed]",
      "text/plain": [
       "<Figure size 432x288 with 1 Axes>"
      ]
     },
     "metadata": {
      "needs_background": "light"
     },
     "output_type": "display_data"
    }
   ],
   "source": [
    "plt.scatter(data.index,data['Hardwork'],color=\"orange\")\n",
    "plt.xlabel('Index')\n",
    "plt.ylabel(\"Hardwork\")\n",
    "plt.show()                                  #plotting scatter-plot representing Hardwork against index or observation No."
   ]
  },
  {
   "cell_type": "code",
   "execution_count": 12,
   "id": "internal-north",
   "metadata": {},
   "outputs": [
    {
     "data": {
      "image/png": "[encoded data removed]",
      "text/plain": [
       "<Figure size 432x288 with 1 Axes>"
      ]
     },
     "metadata": {
      "needs_background": "light"
     },
     "output_type": "display_data"
    }
   ],
   "source": [
    "plt.scatter(data.index,data['Skills'],color=\"green\") #plotting scatter-plot representing Skills against index or observation No.\n",
    "plt.xlabel('Index')\n",
    "plt.ylabel(\"Skills\")\n",
    "plt.show()"
   ]
  },
  {
   "cell_type": "code",
   "execution_count": 11,
   "id": "specific-playlist",
   "metadata": {},
   "outputs": [
    {
     "data": {
      "text/plain": [
       "Text(0, 0.5, 'Frequency')"
      ]
     },
     "execution_count": 11,
     "metadata": {},
     "output_type": "execute_result"
    },
    {
     "data": {
      "image/png": "[encoded data removed]",
      "text/plain": [
       "<Figure size 432x288 with 1 Axes>"
      ]
     },
     "metadata": {
      "needs_background": "light"
     },
     "output_type": "display_data"
    }
   ],
   "source": [
    "plt.hist(data['Label'])                           #plotting histogram for tier against its frequency\n",
    "plt.xlabel('Tier')\n",
    "plt.ylabel(\"Frequency\")"
   ]
  },
  {
   "cell_type": "code",
   "execution_count": 13,
   "id": "lesser-depression",
   "metadata": {},
   "outputs": [
    {
     "data": {
      "text/html": [
       "<div>\n",
       "<style scoped>\n",
       "    .dataframe tbody tr th:only-of-type {\n",
       "        vertical-align: middle;\n",
       "    }\n",
       "\n",
       "    .dataframe tbody tr th {\n",
       "        vertical-align: top;\n",
       "    }\n",
       "\n",
       "    .dataframe thead th {\n",
       "        text-align: right;\n",
       "    }\n",
       "</style>\n",
       "<table border=\"1\" class=\"dataframe\">\n",
       "  <thead>\n",
       "    <tr style=\"text-align: right;\">\n",
       "      <th></th>\n",
       "      <th>Hardwork</th>\n",
       "      <th>Skills</th>\n",
       "    </tr>\n",
       "  </thead>\n",
       "  <tbody>\n",
       "    <tr>\n",
       "      <th>Hardwork</th>\n",
       "      <td>1.000000</td>\n",
       "      <td>0.231967</td>\n",
       "    </tr>\n",
       "    <tr>\n",
       "      <th>Skills</th>\n",
       "      <td>0.231967</td>\n",
       "      <td>1.000000</td>\n",
       "    </tr>\n",
       "  </tbody>\n",
       "</table>\n",
       "</div>"
      ],
      "text/plain": [
       "          Hardwork    Skills\n",
       "Hardwork  1.000000  0.231967\n",
       "Skills    0.231967  1.000000"
      ]
     },
     "execution_count": 13,
     "metadata": {},
     "output_type": "execute_result"
    }
   ],
   "source": [
    "data.corr()                                           #corr function shows correlation between different features"
   ]
  },
  {
   "cell_type": "code",
   "execution_count": 14,
   "id": "verbal-shark",
   "metadata": {},
   "outputs": [
    {
     "data": {
      "image/png": "[encoded data removed]",
      "text/plain": [
       "<Figure size 432x288 with 1 Axes>"
      ]
     },
     "metadata": {
      "needs_background": "light"
     },
     "output_type": "display_data"
    }
   ],
   "source": [
    "plt.scatter(data['Hardwork'],data['Skills'],color='red')          #plotting scatter-plot representing Skills against Hardwork\n",
    "plt.xlabel('Hardwork')\n",
    "plt.ylabel(\"Skills\")\n",
    "plt.show()"
   ]
  },
  {
   "cell_type": "markdown",
   "id": "deadly-magazine",
   "metadata": {},
   "source": [
    "* Handling Outliers       (outliers are observations which are very far from other data)\n"
   ]
  },
  {
   "cell_type": "code",
   "execution_count": 14,
   "id": "resistant-infrastructure",
   "metadata": {},
   "outputs": [
    {
     "data": {
      "text/plain": [
       "<AxesSubplot:>"
      ]
     },
     "execution_count": 14,
     "metadata": {},
     "output_type": "execute_result"
    },
    {
     "data": {
      "image/png": "[encoded data removed]",
      "text/plain": [
       "<Figure size 432x288 with 1 Axes>"
      ]
     },
     "metadata": {
      "needs_background": "light"
     },
     "output_type": "display_data"
    }
   ],
   "source": [
    "data.boxplot(\"Hardwork\")      #verifying if data contains outliers by plotting boxplot (conclusion:NO outliers is present)"
   ]
  },
  {
   "cell_type": "code",
   "execution_count": 15,
   "id": "nervous-investor",
   "metadata": {},
   "outputs": [
    {
     "data": {
      "text/plain": [
       "<AxesSubplot:>"
      ]
     },
     "execution_count": 15,
     "metadata": {},
     "output_type": "execute_result"
    },
    {
     "data": {
      "image/png": "[encoded data removed]",
      "text/plain": [
       "<Figure size 432x288 with 1 Axes>"
      ]
     },
     "metadata": {
      "needs_background": "light"
     },
     "output_type": "display_data"
    }
   ],
   "source": [
    "data.boxplot(\"Skills\")                   #(conclusion: NO outliers are present)"
   ]
  },
  {
   "cell_type": "markdown",
   "id": "israeli-defendant",
   "metadata": {},
   "source": [
    "* Normalization and Scaling : Standardizing the variables"
   ]
  },
  {
   "cell_type": "code",
   "execution_count": 16,
   "id": "returning-oasis",
   "metadata": {},
   "outputs": [],
   "source": [
    "# Since data is on same scales this part is not needed to be performed"
   ]
  },
  {
   "cell_type": "markdown",
   "id": "informal-title",
   "metadata": {},
   "source": [
    " * Univariate Analysis"
   ]
  },
  {
   "cell_type": "code",
   "execution_count": 16,
   "id": "eligible-underwear",
   "metadata": {},
   "outputs": [],
   "source": [
    "data_A=data.loc[data['Label']=='A Tier']              #defining variables particularly for observations belonging to each Tier \n",
    "data_B=data.loc[data['Label']=='B Tier']              #   using .loc function\n",
    "data_C=data.loc[data['Label']=='C Tier']\n",
    "data_D=data.loc[data['Label']=='D Tier']"
   ]
  },
  {
   "cell_type": "code",
   "execution_count": 17,
   "id": "loving-anthropology",
   "metadata": {},
   "outputs": [
    {
     "data": {
      "image/png": "[encoded data removed]",
      "text/plain": [
       "<Figure size 432x288 with 1 Axes>"
      ]
     },
     "metadata": {
      "needs_background": "light"
     },
     "output_type": "display_data"
    }
   ],
   "source": [
    "plt.scatter(data_A['Hardwork'],np.zeros_like(data_A['Hardwork']),color=\"red\")\n",
    "plt.scatter(data_B['Hardwork'], np.ones_like(data_B['Hardwork']),color=\"blue\")   \n",
    "plt.scatter(data_C['Hardwork'],np.zeros_like(data_C['Hardwork']),color=\"green\")   \n",
    "plt.scatter(data_D['Hardwork'], np.ones_like(data_D['Hardwork']),color=\"orange\")   \n",
    "plt.xlabel('Hard Work')                                                            \n",
    "plt.ylabel('Label')                                                             \n",
    "plt.show()                                                                  #Plotting Scatterplot univariate(Hardwork) Analysis"
   ]
  },
  {
   "cell_type": "code",
   "execution_count": 18,
   "id": "congressional-fifth",
   "metadata": {},
   "outputs": [
    {
     "data": {
      "image/png": "[encoded data removed]",
      "text/plain": [
       "<Figure size 432x288 with 1 Axes>"
      ]
     },
     "metadata": {
      "needs_background": "light"
     },
     "output_type": "display_data"
    }
   ],
   "source": [
    "plt.scatter(data_A['Skills'],np.zeros_like(data_A['Skills']),color=\"red\")#Plotting Scatterplot univariate(Skills) Analysis\n",
    "plt.scatter(data_B['Skills'], np.ones_like(data_B['Skills']),color=\"blue\")           \n",
    "plt.scatter(data_C['Skills'],np.zeros_like(data_C['Skills']),color=\"green\")           \n",
    "plt.scatter(data_D['Skills'], np.ones_like(data_D['Skills']),color=\"orange\")          \n",
    "plt.xlabel('Skills')                                                      \n",
    "plt.ylabel('Label')                                                     \n",
    "plt.show()    "
   ]
  },
  {
   "cell_type": "markdown",
   "id": "british-dictionary",
   "metadata": {},
   "source": [
    "* Bivariate Analysis"
   ]
  },
  {
   "cell_type": "code",
   "execution_count": 19,
   "id": "wired-duplicate",
   "metadata": {
    "scrolled": true
   },
   "outputs": [
    {
     "data": {
      "image/png": "[encoded data removed]",
      "text/plain": [
       "<Figure size 432x288 with 1 Axes>"
      ]
     },
     "metadata": {
      "needs_background": "light"
     },
     "output_type": "display_data"
    }
   ],
   "source": [
    "plt.scatter(data_A['Skills'],data_A['Hardwork'],color=\"red\")  #plotting scatter-plot representing Hardwork against Skills\n",
    "plt.scatter(data_B['Skills'],data_B['Hardwork'],color=\"blue\")\n",
    "plt.scatter(data_C['Skills'],data_C['Hardwork'],color=\"green\")\n",
    "plt.scatter(data_D['Skills'],data_D['Hardwork'],color=\"orange\")\n",
    "plt.xlabel('Skills')\n",
    "plt.ylabel('Hardwork')\n",
    "plt.show()"
   ]
  },
  {
   "cell_type": "markdown",
   "id": "understanding-zambia",
   "metadata": {},
   "source": [
    "<img src=\"hardwork.jpg\" style=\"width:200px;height:200px\"/>"
   ]
  },
  {
   "cell_type": "markdown",
   "id": "desperate-spectrum",
   "metadata": {},
   "source": [
    "# K-Means Clustering"
   ]
  },
  {
   "cell_type": "markdown",
   "id": "refined-persian",
   "metadata": {},
   "source": [
    "* Train Test Split"
   ]
  },
  {
   "cell_type": "code",
   "execution_count": 20,
   "id": "muslim-dominant",
   "metadata": {},
   "outputs": [],
   "source": [
    "from sklearn.model_selection import train_test_split #splitting the dataset using sklearn,(60:20:20) as training,validation,test\n",
    "\n",
    "data, data_test = train_test_split(data,test_size=0.2,train_size=0.8)\n",
    "data_train, data_valid = train_test_split(data,test_size = 0.25,train_size =0.75)"
   ]
  },
  {
   "cell_type": "code",
   "execution_count": 27,
   "id": "sealed-salem",
   "metadata": {},
   "outputs": [
    {
     "data": {
      "text/plain": [
       "(276, 3)"
      ]
     },
     "execution_count": 27,
     "metadata": {},
     "output_type": "execute_result"
    }
   ],
   "source": [
    "data_train.shape"
   ]
  },
  {
   "cell_type": "code",
   "execution_count": 21,
   "id": "quiet-roller",
   "metadata": {},
   "outputs": [
    {
     "data": {
      "text/html": [
       "<div>\n",
       "<style scoped>\n",
       "    .dataframe tbody tr th:only-of-type {\n",
       "        vertical-align: middle;\n",
       "    }\n",
       "\n",
       "    .dataframe tbody tr th {\n",
       "        vertical-align: top;\n",
       "    }\n",
       "\n",
       "    .dataframe thead th {\n",
       "        text-align: right;\n",
       "    }\n",
       "</style>\n",
       "<table border=\"1\" class=\"dataframe\">\n",
       "  <thead>\n",
       "    <tr style=\"text-align: right;\">\n",
       "      <th></th>\n",
       "      <th>Hardwork</th>\n",
       "      <th>Skills</th>\n",
       "      <th>Label</th>\n",
       "    </tr>\n",
       "  </thead>\n",
       "  <tbody>\n",
       "    <tr>\n",
       "      <th>224</th>\n",
       "      <td>26.268696</td>\n",
       "      <td>56.570951</td>\n",
       "      <td>B Tier</td>\n",
       "    </tr>\n",
       "    <tr>\n",
       "      <th>32</th>\n",
       "      <td>15.336225</td>\n",
       "      <td>7.206248</td>\n",
       "      <td>C Tier</td>\n",
       "    </tr>\n",
       "    <tr>\n",
       "      <th>55</th>\n",
       "      <td>73.114635</td>\n",
       "      <td>16.122849</td>\n",
       "      <td>D Tier</td>\n",
       "    </tr>\n",
       "    <tr>\n",
       "      <th>255</th>\n",
       "      <td>49.240463</td>\n",
       "      <td>68.504529</td>\n",
       "      <td>B Tier</td>\n",
       "    </tr>\n",
       "    <tr>\n",
       "      <th>268</th>\n",
       "      <td>86.663179</td>\n",
       "      <td>80.942087</td>\n",
       "      <td>A Tier</td>\n",
       "    </tr>\n",
       "  </tbody>\n",
       "</table>\n",
       "</div>"
      ],
      "text/plain": [
       "      Hardwork     Skills   Label\n",
       "224  26.268696  56.570951  B Tier\n",
       "32   15.336225   7.206248  C Tier\n",
       "55   73.114635  16.122849  D Tier\n",
       "255  49.240463  68.504529  B Tier\n",
       "268  86.663179  80.942087  A Tier"
      ]
     },
     "execution_count": 21,
     "metadata": {},
     "output_type": "execute_result"
    }
   ],
   "source": [
    "data_train.head()"
   ]
  },
  {
   "cell_type": "code",
   "execution_count": 22,
   "id": "burning-baking",
   "metadata": {},
   "outputs": [
    {
     "data": {
      "text/html": [
       "<div>\n",
       "<style scoped>\n",
       "    .dataframe tbody tr th:only-of-type {\n",
       "        vertical-align: middle;\n",
       "    }\n",
       "\n",
       "    .dataframe tbody tr th {\n",
       "        vertical-align: top;\n",
       "    }\n",
       "\n",
       "    .dataframe thead th {\n",
       "        text-align: right;\n",
       "    }\n",
       "</style>\n",
       "<table border=\"1\" class=\"dataframe\">\n",
       "  <thead>\n",
       "    <tr style=\"text-align: right;\">\n",
       "      <th></th>\n",
       "      <th>Hardwork</th>\n",
       "      <th>Skills</th>\n",
       "      <th>Label</th>\n",
       "    </tr>\n",
       "  </thead>\n",
       "  <tbody>\n",
       "    <tr>\n",
       "      <th>424</th>\n",
       "      <td>38.790354</td>\n",
       "      <td>76.312130</td>\n",
       "      <td>B Tier</td>\n",
       "    </tr>\n",
       "    <tr>\n",
       "      <th>356</th>\n",
       "      <td>21.518121</td>\n",
       "      <td>13.342820</td>\n",
       "      <td>C Tier</td>\n",
       "    </tr>\n",
       "    <tr>\n",
       "      <th>50</th>\n",
       "      <td>68.417158</td>\n",
       "      <td>23.110767</td>\n",
       "      <td>D Tier</td>\n",
       "    </tr>\n",
       "    <tr>\n",
       "      <th>399</th>\n",
       "      <td>68.682061</td>\n",
       "      <td>78.627201</td>\n",
       "      <td>A Tier</td>\n",
       "    </tr>\n",
       "    <tr>\n",
       "      <th>322</th>\n",
       "      <td>63.016328</td>\n",
       "      <td>44.893451</td>\n",
       "      <td>B Tier</td>\n",
       "    </tr>\n",
       "  </tbody>\n",
       "</table>\n",
       "</div>"
      ],
      "text/plain": [
       "      Hardwork     Skills   Label\n",
       "424  38.790354  76.312130  B Tier\n",
       "356  21.518121  13.342820  C Tier\n",
       "50   68.417158  23.110767  D Tier\n",
       "399  68.682061  78.627201  A Tier\n",
       "322  63.016328  44.893451  B Tier"
      ]
     },
     "execution_count": 22,
     "metadata": {},
     "output_type": "execute_result"
    }
   ],
   "source": [
    "data_train.tail()"
   ]
  },
  {
   "cell_type": "code",
   "execution_count": 28,
   "id": "republican-drove",
   "metadata": {},
   "outputs": [
    {
     "data": {
      "text/plain": [
       "(92, 3)"
      ]
     },
     "execution_count": 28,
     "metadata": {},
     "output_type": "execute_result"
    }
   ],
   "source": [
    "data_test.shape"
   ]
  },
  {
   "cell_type": "code",
   "execution_count": 23,
   "id": "cultural-bulletin",
   "metadata": {},
   "outputs": [
    {
     "data": {
      "text/html": [
       "<div>\n",
       "<style scoped>\n",
       "    .dataframe tbody tr th:only-of-type {\n",
       "        vertical-align: middle;\n",
       "    }\n",
       "\n",
       "    .dataframe tbody tr th {\n",
       "        vertical-align: top;\n",
       "    }\n",
       "\n",
       "    .dataframe thead th {\n",
       "        text-align: right;\n",
       "    }\n",
       "</style>\n",
       "<table border=\"1\" class=\"dataframe\">\n",
       "  <thead>\n",
       "    <tr style=\"text-align: right;\">\n",
       "      <th></th>\n",
       "      <th>Hardwork</th>\n",
       "      <th>Skills</th>\n",
       "      <th>Label</th>\n",
       "    </tr>\n",
       "  </thead>\n",
       "  <tbody>\n",
       "    <tr>\n",
       "      <th>223</th>\n",
       "      <td>79.838403</td>\n",
       "      <td>11.233729</td>\n",
       "      <td>D Tier</td>\n",
       "    </tr>\n",
       "    <tr>\n",
       "      <th>406</th>\n",
       "      <td>84.730050</td>\n",
       "      <td>95.704652</td>\n",
       "      <td>A Tier</td>\n",
       "    </tr>\n",
       "    <tr>\n",
       "      <th>75</th>\n",
       "      <td>21.957008</td>\n",
       "      <td>52.768351</td>\n",
       "      <td>B Tier</td>\n",
       "    </tr>\n",
       "    <tr>\n",
       "      <th>64</th>\n",
       "      <td>24.867728</td>\n",
       "      <td>35.371319</td>\n",
       "      <td>B Tier</td>\n",
       "    </tr>\n",
       "    <tr>\n",
       "      <th>299</th>\n",
       "      <td>0.712341</td>\n",
       "      <td>84.583743</td>\n",
       "      <td>C Tier</td>\n",
       "    </tr>\n",
       "  </tbody>\n",
       "</table>\n",
       "</div>"
      ],
      "text/plain": [
       "      Hardwork     Skills   Label\n",
       "223  79.838403  11.233729  D Tier\n",
       "406  84.730050  95.704652  A Tier\n",
       "75   21.957008  52.768351  B Tier\n",
       "64   24.867728  35.371319  B Tier\n",
       "299   0.712341  84.583743  C Tier"
      ]
     },
     "execution_count": 23,
     "metadata": {},
     "output_type": "execute_result"
    }
   ],
   "source": [
    "data_test.head()"
   ]
  },
  {
   "cell_type": "code",
   "execution_count": 24,
   "id": "legislative-hepatitis",
   "metadata": {},
   "outputs": [
    {
     "data": {
      "text/html": [
       "<div>\n",
       "<style scoped>\n",
       "    .dataframe tbody tr th:only-of-type {\n",
       "        vertical-align: middle;\n",
       "    }\n",
       "\n",
       "    .dataframe tbody tr th {\n",
       "        vertical-align: top;\n",
       "    }\n",
       "\n",
       "    .dataframe thead th {\n",
       "        text-align: right;\n",
       "    }\n",
       "</style>\n",
       "<table border=\"1\" class=\"dataframe\">\n",
       "  <thead>\n",
       "    <tr style=\"text-align: right;\">\n",
       "      <th></th>\n",
       "      <th>Hardwork</th>\n",
       "      <th>Skills</th>\n",
       "      <th>Label</th>\n",
       "    </tr>\n",
       "  </thead>\n",
       "  <tbody>\n",
       "    <tr>\n",
       "      <th>253</th>\n",
       "      <td>52.615691</td>\n",
       "      <td>57.789559</td>\n",
       "      <td>B Tier</td>\n",
       "    </tr>\n",
       "    <tr>\n",
       "      <th>199</th>\n",
       "      <td>54.808556</td>\n",
       "      <td>42.397006</td>\n",
       "      <td>B Tier</td>\n",
       "    </tr>\n",
       "    <tr>\n",
       "      <th>210</th>\n",
       "      <td>23.236372</td>\n",
       "      <td>10.275827</td>\n",
       "      <td>C Tier</td>\n",
       "    </tr>\n",
       "    <tr>\n",
       "      <th>334</th>\n",
       "      <td>26.322862</td>\n",
       "      <td>71.492513</td>\n",
       "      <td>B Tier</td>\n",
       "    </tr>\n",
       "    <tr>\n",
       "      <th>350</th>\n",
       "      <td>79.672734</td>\n",
       "      <td>13.866400</td>\n",
       "      <td>D Tier</td>\n",
       "    </tr>\n",
       "  </tbody>\n",
       "</table>\n",
       "</div>"
      ],
      "text/plain": [
       "      Hardwork     Skills   Label\n",
       "253  52.615691  57.789559  B Tier\n",
       "199  54.808556  42.397006  B Tier\n",
       "210  23.236372  10.275827  C Tier\n",
       "334  26.322862  71.492513  B Tier\n",
       "350  79.672734  13.866400  D Tier"
      ]
     },
     "execution_count": 24,
     "metadata": {},
     "output_type": "execute_result"
    }
   ],
   "source": [
    "data_test.tail()"
   ]
  },
  {
   "cell_type": "code",
   "execution_count": 29,
   "id": "animal-rainbow",
   "metadata": {},
   "outputs": [
    {
     "data": {
      "text/plain": [
       "(92, 3)"
      ]
     },
     "execution_count": 29,
     "metadata": {},
     "output_type": "execute_result"
    }
   ],
   "source": [
    "data_valid.shape"
   ]
  },
  {
   "cell_type": "code",
   "execution_count": 25,
   "id": "innocent-paste",
   "metadata": {},
   "outputs": [
    {
     "data": {
      "text/html": [
       "<div>\n",
       "<style scoped>\n",
       "    .dataframe tbody tr th:only-of-type {\n",
       "        vertical-align: middle;\n",
       "    }\n",
       "\n",
       "    .dataframe tbody tr th {\n",
       "        vertical-align: top;\n",
       "    }\n",
       "\n",
       "    .dataframe thead th {\n",
       "        text-align: right;\n",
       "    }\n",
       "</style>\n",
       "<table border=\"1\" class=\"dataframe\">\n",
       "  <thead>\n",
       "    <tr style=\"text-align: right;\">\n",
       "      <th></th>\n",
       "      <th>Hardwork</th>\n",
       "      <th>Skills</th>\n",
       "      <th>Label</th>\n",
       "    </tr>\n",
       "  </thead>\n",
       "  <tbody>\n",
       "    <tr>\n",
       "      <th>57</th>\n",
       "      <td>11.010126</td>\n",
       "      <td>25.607435</td>\n",
       "      <td>C Tier</td>\n",
       "    </tr>\n",
       "    <tr>\n",
       "      <th>230</th>\n",
       "      <td>74.920431</td>\n",
       "      <td>15.893858</td>\n",
       "      <td>D Tier</td>\n",
       "    </tr>\n",
       "    <tr>\n",
       "      <th>231</th>\n",
       "      <td>63.574123</td>\n",
       "      <td>19.903922</td>\n",
       "      <td>D Tier</td>\n",
       "    </tr>\n",
       "    <tr>\n",
       "      <th>282</th>\n",
       "      <td>5.920891</td>\n",
       "      <td>13.204539</td>\n",
       "      <td>C Tier</td>\n",
       "    </tr>\n",
       "    <tr>\n",
       "      <th>77</th>\n",
       "      <td>28.029849</td>\n",
       "      <td>20.104359</td>\n",
       "      <td>D Tier</td>\n",
       "    </tr>\n",
       "  </tbody>\n",
       "</table>\n",
       "</div>"
      ],
      "text/plain": [
       "      Hardwork     Skills   Label\n",
       "57   11.010126  25.607435  C Tier\n",
       "230  74.920431  15.893858  D Tier\n",
       "231  63.574123  19.903922  D Tier\n",
       "282   5.920891  13.204539  C Tier\n",
       "77   28.029849  20.104359  D Tier"
      ]
     },
     "execution_count": 25,
     "metadata": {},
     "output_type": "execute_result"
    }
   ],
   "source": [
    "data_valid.head()"
   ]
  },
  {
   "cell_type": "code",
   "execution_count": 26,
   "id": "other-silly",
   "metadata": {},
   "outputs": [
    {
     "data": {
      "text/html": [
       "<div>\n",
       "<style scoped>\n",
       "    .dataframe tbody tr th:only-of-type {\n",
       "        vertical-align: middle;\n",
       "    }\n",
       "\n",
       "    .dataframe tbody tr th {\n",
       "        vertical-align: top;\n",
       "    }\n",
       "\n",
       "    .dataframe thead th {\n",
       "        text-align: right;\n",
       "    }\n",
       "</style>\n",
       "<table border=\"1\" class=\"dataframe\">\n",
       "  <thead>\n",
       "    <tr style=\"text-align: right;\">\n",
       "      <th></th>\n",
       "      <th>Hardwork</th>\n",
       "      <th>Skills</th>\n",
       "      <th>Label</th>\n",
       "    </tr>\n",
       "  </thead>\n",
       "  <tbody>\n",
       "    <tr>\n",
       "      <th>66</th>\n",
       "      <td>43.843294</td>\n",
       "      <td>72.026543</td>\n",
       "      <td>B Tier</td>\n",
       "    </tr>\n",
       "    <tr>\n",
       "      <th>133</th>\n",
       "      <td>22.586215</td>\n",
       "      <td>50.960454</td>\n",
       "      <td>B Tier</td>\n",
       "    </tr>\n",
       "    <tr>\n",
       "      <th>205</th>\n",
       "      <td>54.821932</td>\n",
       "      <td>60.763166</td>\n",
       "      <td>B Tier</td>\n",
       "    </tr>\n",
       "    <tr>\n",
       "      <th>165</th>\n",
       "      <td>61.113668</td>\n",
       "      <td>22.089605</td>\n",
       "      <td>D Tier</td>\n",
       "    </tr>\n",
       "    <tr>\n",
       "      <th>22</th>\n",
       "      <td>50.560716</td>\n",
       "      <td>61.833491</td>\n",
       "      <td>B Tier</td>\n",
       "    </tr>\n",
       "  </tbody>\n",
       "</table>\n",
       "</div>"
      ],
      "text/plain": [
       "      Hardwork     Skills   Label\n",
       "66   43.843294  72.026543  B Tier\n",
       "133  22.586215  50.960454  B Tier\n",
       "205  54.821932  60.763166  B Tier\n",
       "165  61.113668  22.089605  D Tier\n",
       "22   50.560716  61.833491  B Tier"
      ]
     },
     "execution_count": 26,
     "metadata": {},
     "output_type": "execute_result"
    }
   ],
   "source": [
    "data_valid.tail()"
   ]
  },
  {
   "cell_type": "markdown",
   "id": "disturbed-technology",
   "metadata": {},
   "source": [
    "* Applying KMeans "
   ]
  },
  {
   "cell_type": "code",
   "execution_count": 30,
   "id": "bright-thinking",
   "metadata": {},
   "outputs": [],
   "source": [
    "from sklearn.cluster import KMeans\n",
    "%matplotlib inline"
   ]
  },
  {
   "cell_type": "code",
   "execution_count": 31,
   "id": "studied-casino",
   "metadata": {},
   "outputs": [],
   "source": [
    "sse = []                                                      #validation by sum of squared error method\n",
    "for k in range(1,10):\n",
    "    km = KMeans(n_clusters=k)\n",
    "    km.fit(data_valid[['Skills','Hardwork']])\n",
    "    sse.append(km.inertia_)"
   ]
  },
  {
   "cell_type": "code",
   "execution_count": 32,
   "id": "sticky-mineral",
   "metadata": {},
   "outputs": [
    {
     "data": {
      "text/plain": [
       "[<matplotlib.lines.Line2D at 0x138c7e006d0>]"
      ]
     },
     "execution_count": 32,
     "metadata": {},
     "output_type": "execute_result"
    },
    {
     "data": {
      "image/png": "[encoded data removed]",
      "text/plain": [
       "<Figure size 432x288 with 1 Axes>"
      ]
     },
     "metadata": {
      "needs_background": "light"
     },
     "output_type": "display_data"
    }
   ],
   "source": [
    "plt.xlabel('K')                                               #Plotting elbow plot for depicting the numbers of clusters\n",
    "plt.ylabel('Sum of squared error')                            #conclusion - number of clusters should be 4\n",
    "plt.plot(range(1,10),sse)"
   ]
  },
  {
   "cell_type": "code",
   "execution_count": 33,
   "id": "greatest-halloween",
   "metadata": {},
   "outputs": [],
   "source": [
    "km = KMeans(n_clusters=4)                                                 #declaring the number of clusters"
   ]
  },
  {
   "cell_type": "code",
   "execution_count": 34,
   "id": "verbal-point",
   "metadata": {},
   "outputs": [
    {
     "data": {
      "text/plain": [
       "KMeans(n_clusters=4)"
      ]
     },
     "execution_count": 34,
     "metadata": {},
     "output_type": "execute_result"
    }
   ],
   "source": [
    "km.fit(data_train[['Skills','Hardwork']],data_train['Label'])             #fitting  the data or training our model"
   ]
  },
  {
   "cell_type": "code",
   "execution_count": 35,
   "id": "integral-killing",
   "metadata": {},
   "outputs": [
    {
     "data": {
      "text/plain": [
       "array([[16.25198192, 70.08094949],\n",
       "       [58.22790947, 44.1286289 ],\n",
       "       [10.63610575, 13.70098214],\n",
       "       [78.55894661, 85.34214607]])"
      ]
     },
     "execution_count": 35,
     "metadata": {},
     "output_type": "execute_result"
    }
   ],
   "source": [
    "km.cluster_centers_                                                    #shows the cartesian coordinates of centeroid of clusters"
   ]
  },
  {
   "cell_type": "markdown",
   "id": "loved-spotlight",
   "metadata": {},
   "source": [
    "* Testing"
   ]
  },
  {
   "cell_type": "code",
   "execution_count": 36,
   "id": "objective-bosnia",
   "metadata": {},
   "outputs": [],
   "source": [
    "data_predict=km.predict(data_test[['Skills','Hardwork']])                  #predicting labels for testing dataset"
   ]
  },
  {
   "cell_type": "code",
   "execution_count": 37,
   "id": "sustained-triple",
   "metadata": {},
   "outputs": [
    {
     "data": {
      "text/plain": [
       "(92,)"
      ]
     },
     "execution_count": 37,
     "metadata": {},
     "output_type": "execute_result"
    }
   ],
   "source": [
    "data_predict.shape"
   ]
  },
  {
   "cell_type": "code",
   "execution_count": 38,
   "id": "sitting-senior",
   "metadata": {},
   "outputs": [
    {
     "data": {
      "image/png": "[encoded data removed]",
      "text/plain": [
       "<Figure size 432x288 with 1 Axes>"
      ]
     },
     "metadata": {
      "needs_background": "light"
     },
     "output_type": "display_data"
    }
   ],
   "source": [
    "plt.scatter(data_test['Skills'],data_test['Hardwork'],data_predict==0,color='red')    #plotting scatterplot for testing dataset\n",
    "plt.scatter(data_test['Skills'],data_test['Hardwork'],data_predict==1,color='blue')\n",
    "plt.scatter(data_test['Skills'],data_test['Hardwork'],data_predict==2,color='green')\n",
    "plt.scatter(data_test['Skills'],data_test['Hardwork'],data_predict==3,color='orange')\n",
    "plt.xlabel('Skills')\n",
    "plt.ylabel('Hardwork')\n",
    "plt.scatter(km.cluster_centers_[:,0],km.cluster_centers_[:,1],color='black',marker='*')\n",
    "plt.show()"
   ]
  },
  {
   "cell_type": "markdown",
   "id": "personal-milton",
   "metadata": {},
   "source": [
    "# THE END"
   ]
  }
 ],
 "metadata": {
  "kernelspec": {
   "display_name": "Python 3 (ipykernel)",
   "language": "python",
   "name": "python3"
  },
  "language_info": {
   "codemirror_mode": {
    "name": "ipython",
    "version": 3
   },
   "file_extension": ".py",
   "mimetype": "text/x-python",
   "name": "python",
   "nbconvert_exporter": "python",
   "pygments_lexer": "ipython3",
   "version": "3.9.7"
  }
 },
 "nbformat": 4,
 "nbformat_minor": 5
}
